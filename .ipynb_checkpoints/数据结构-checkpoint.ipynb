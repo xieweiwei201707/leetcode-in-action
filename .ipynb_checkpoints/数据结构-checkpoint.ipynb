{
 "cells": [
  {
   "cell_type": "markdown",
   "metadata": {},
   "source": [
    "## 二维数组中的查找"
   ]
  },
  {
   "cell_type": "code",
   "execution_count": 10,
   "metadata": {},
   "outputs": [
    {
     "name": "stdout",
     "output_type": "stream",
     "text": [
      "the num in matrix is True\n",
      "the num1 in matrix is False\n"
     ]
    }
   ],
   "source": [
    "# coding=utf-8\n",
    "# 二维数组中，每行从左到右递增，每列从上到下递增，给出一个数，判断它是否在数组中\n",
    "# 从左下角（或右上角）开始遍历数组\n",
    "\n",
    "\n",
    "def find_integer(matrix, num):\n",
    "    \"\"\"\n",
    "    :param matrix: [[]]\n",
    "    :param num: int\n",
    "    :return: bool\n",
    "    \"\"\"\n",
    "    if not matrix:\n",
    "        return False\n",
    "    rows, cols = len(matrix), len(matrix[0])\n",
    "    row, col = rows - 1, 0\n",
    "    while row >=0 and col <= cols -1:\n",
    "        if matrix[row][col] == num:\n",
    "            return True\n",
    "        elif matrix[row][col] > num:\n",
    "            row -= 1\n",
    "        else:\n",
    "            col += 1\n",
    "    return False\n",
    "\n",
    "\n",
    "matrix = [[1, 2, 3],\n",
    "              [2, 3, 6],\n",
    "              [3, 6, 7]]\n",
    "num = 6\n",
    "print('the num in matrix is {0}'.format(find_integer(matrix, num)))\n",
    "num1 = 9\n",
    "print('the num1 in matrix is {0}'.format(find_integer(matrix, num1)))"
   ]
  },
  {
   "cell_type": "code",
   "execution_count": null,
   "metadata": {},
   "outputs": [],
   "source": []
  }
 ],
 "metadata": {
  "kernelspec": {
   "display_name": "Python 3",
   "language": "python",
   "name": "python3"
  },
  "language_info": {
   "codemirror_mode": {
    "name": "ipython",
    "version": 3
   },
   "file_extension": ".py",
   "mimetype": "text/x-python",
   "name": "python",
   "nbconvert_exporter": "python",
   "pygments_lexer": "ipython3",
   "version": "3.6.6"
  }
 },
 "nbformat": 4,
 "nbformat_minor": 4
}
